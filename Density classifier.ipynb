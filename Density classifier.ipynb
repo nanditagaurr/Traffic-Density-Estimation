{
 "cells": [
  {
   "cell_type": "code",
   "execution_count": 1,
   "metadata": {},
   "outputs": [],
   "source": [
    "import os\n",
    "from sklearn.model_selection import train_test_split\n",
    "datahigh = os.listdir(\"simple_images/high_traffic\")\n",
    "trainhigh, validhigh = train_test_split(datahigh, test_size=0.2, random_state=1)"
   ]
  },
  {
   "cell_type": "code",
   "execution_count": 2,
   "metadata": {},
   "outputs": [],
   "source": [
    "datalow = os.listdir(\"simple_images/low_traffic\")\n",
    "trainlow, validlow = train_test_split(datalow, test_size=0.2, random_state=1)"
   ]
  },
  {
   "cell_type": "code",
   "execution_count": 3,
   "metadata": {},
   "outputs": [
    {
     "name": "stdout",
     "output_type": "stream",
     "text": [
      "Length of High Traffic training dataset  is  160\n",
      "Length of High Traffic validation dataset  is  40\n",
      "\n",
      "Some random images names are\n",
      "['high traffic_98.jpeg', 'huge traffic_3.jpeg', 'huge traffic_26.jpeg', 'high traffic_57.jpeg', 'high traffic_39.jpeg', 'huge traffic_80.jpeg', 'huge traffic_82.jpeg', 'huge traffic_14.jpeg', 'huge traffic_99.jpeg', 'huge traffic_43.jpeg']\n",
      "['huge traffic_25.jpeg', 'huge traffic_62.jpeg', 'high traffic_40.jpeg', 'huge traffic_41.jpeg', 'high traffic_62.jpeg', 'high traffic_55.jpeg', 'high traffic_23.jpeg', 'high traffic_49.jpeg', 'high traffic_94.jpeg', 'high traffic_37.jpeg']\n"
     ]
    }
   ],
   "source": [
    "print(\"Length of High Traffic training dataset  is \", len(trainhigh))\n",
    "print(\"Length of High Traffic validation dataset  is \", len(validhigh))\n",
    "print()\n",
    "print(\"Some random images names are\")\n",
    "print(trainhigh[10:20])\n",
    "print(validhigh[15:25])"
   ]
  },
  {
   "cell_type": "code",
   "execution_count": 4,
   "metadata": {},
   "outputs": [
    {
     "name": "stdout",
     "output_type": "stream",
     "text": [
      "Length of Low Traffic training dataset  is  172\n",
      "Length of Low Traffic validation dataset  is  44\n",
      "\n",
      "Some random images names are\n",
      "['less traffic_9.jpeg', 'low traffic_51.jpeg', 'low traffic_28.jpeg', 'low traffic_59.png', 'low traffic_16.jpeg', 'low traffic_84.png', 'low traffic_91.jpeg', 'low traffic_58.jpeg', 'low traffic_33.jpeg', 'low traffic_22.jpeg']\n",
      "['less traffic_37.jpeg', 'low traffic_30.png', 'low traffic_15.jpeg', 'less traffic_49.jpeg', 'low traffic_53.png', 'low traffic_54.jpeg', 'less traffic_44.jpeg', 'low traffic_59.jpeg', 'low traffic_73.jpeg', 'low traffic_92.jpeg']\n"
     ]
    }
   ],
   "source": [
    "print(\"Length of Low Traffic training dataset  is \", len(trainlow))\n",
    "print(\"Length of Low Traffic validation dataset  is \", len(validlow))\n",
    "print()\n",
    "print(\"Some random images names are\")\n",
    "print(trainlow[10:20])\n",
    "print(validlow[15:25])"
   ]
  },
  {
   "cell_type": "code",
   "execution_count": 6,
   "metadata": {},
   "outputs": [
    {
     "name": "stdout",
     "output_type": "stream",
     "text": [
      "Found 332 images belonging to 2 classes.\n",
      "Found 84 images belonging to 2 classes.\n"
     ]
    }
   ],
   "source": [
    "from tensorflow.keras.preprocessing.image import ImageDataGenerator\n",
    "\n",
    "# All images will be rescaled by 1./255\n",
    "train_datagen = ImageDataGenerator(rescale=1/255)\n",
    "validation_datagen = ImageDataGenerator(rescale=1/255)\n",
    "\n",
    "# Flow training images in batches of 120 using train_datagen generator\n",
    "train_generator = train_datagen.flow_from_directory(\n",
    "        'split_images/train/',  # This is the source directory for training images\n",
    "        classes = ['high_traffic', 'low_traffic'],\n",
    "        target_size=(200, 200),  # All images will be resized to 200x200\n",
    "        batch_size=120,\n",
    "        # Use binary labels\n",
    "        class_mode='binary')\n",
    "\n",
    "# Flow validation images in batches of 19 using valid_datagen generator\n",
    "validation_generator = validation_datagen.flow_from_directory(\n",
    "        'split_images/valid/',  # This is the source directory for training images\n",
    "        classes = ['high_traffic', 'low_traffic'],\n",
    "        target_size=(200, 200),  # All images will be resized to 200x200\n",
    "        batch_size=19,\n",
    "        # Use binary labels\n",
    "        class_mode='binary',\n",
    "        shuffle=False)"
   ]
  },
  {
   "cell_type": "code",
   "execution_count": 7,
   "metadata": {},
   "outputs": [],
   "source": [
    "import tensorflow as tf\n",
    "import numpy as np\n",
    "from itertools import cycle\n",
    "\n",
    "from sklearn import svm, datasets\n",
    "from sklearn.metrics import roc_curve, auc\n",
    "from sklearn.model_selection import train_test_split\n",
    "from sklearn.preprocessing import label_binarize\n",
    "from sklearn.multiclass import OneVsRestClassifier\n",
    "from scipy import interp\n",
    "from sklearn.metrics import roc_auc_score"
   ]
  },
  {
   "cell_type": "code",
   "execution_count": 8,
   "metadata": {},
   "outputs": [],
   "source": [
    "model = tf.keras.models.Sequential([tf.keras.layers.Flatten(input_shape = (200,200,3)), \n",
    "                                    tf.keras.layers.Dense(128, activation=tf.nn.relu), \n",
    "                                    tf.keras.layers.Dense(1, activation=tf.nn.sigmoid)])"
   ]
  },
  {
   "cell_type": "code",
   "execution_count": 9,
   "metadata": {
    "scrolled": true
   },
   "outputs": [
    {
     "name": "stdout",
     "output_type": "stream",
     "text": [
      "Model: \"sequential\"\n",
      "_________________________________________________________________\n",
      "Layer (type)                 Output Shape              Param #   \n",
      "=================================================================\n",
      "flatten (Flatten)            (None, 120000)            0         \n",
      "_________________________________________________________________\n",
      "dense (Dense)                (None, 128)               15360128  \n",
      "_________________________________________________________________\n",
      "dense_1 (Dense)              (None, 1)                 129       \n",
      "=================================================================\n",
      "Total params: 15,360,257\n",
      "Trainable params: 15,360,257\n",
      "Non-trainable params: 0\n",
      "_________________________________________________________________\n"
     ]
    }
   ],
   "source": [
    "model.summary()"
   ]
  },
  {
   "cell_type": "code",
   "execution_count": 10,
   "metadata": {},
   "outputs": [],
   "source": [
    "model.compile(optimizer = tf.optimizers.Adam(),\n",
    "              loss = 'binary_crossentropy',\n",
    "              metrics=['accuracy'])"
   ]
  },
  {
   "cell_type": "code",
   "execution_count": 11,
   "metadata": {},
   "outputs": [
    {
     "name": "stdout",
     "output_type": "stream",
     "text": [
      "Epoch 1/15\n",
      "3/8 [==========>...................] - ETA: 19s - loss: 25.4810 - accuracy: 0.5236WARNING:tensorflow:Your input ran out of data; interrupting training. Make sure that your dataset or generator can generate at least `steps_per_epoch * epochs` batches (in this case, 120 batches). You may need to use the repeat() function when building your dataset.\n",
      "WARNING:tensorflow:Your input ran out of data; interrupting training. Make sure that your dataset or generator can generate at least `steps_per_epoch * epochs` batches (in this case, 8 batches). You may need to use the repeat() function when building your dataset.\n",
      "8/8 [==============================] - 16s 2s/step - loss: 29.2949 - accuracy: 0.5296 - val_loss: 17.8310 - val_accuracy: 0.5238\n"
     ]
    }
   ],
   "source": [
    "history = model.fit(train_generator,\n",
    "      steps_per_epoch=8,  \n",
    "      epochs=15,\n",
    "      verbose=1,\n",
    "      validation_data = validation_generator,\n",
    "      validation_steps=8)"
   ]
  },
  {
   "cell_type": "code",
   "execution_count": 12,
   "metadata": {},
   "outputs": [
    {
     "name": "stdout",
     "output_type": "stream",
     "text": [
      "5/5 [==============================] - 3s 668ms/step - loss: 17.8310 - accuracy: 0.5238\n"
     ]
    },
    {
     "data": {
      "text/plain": [
       "[17.83102035522461, 0.523809552192688]"
      ]
     },
     "execution_count": 12,
     "metadata": {},
     "output_type": "execute_result"
    }
   ],
   "source": [
    "model.evaluate(validation_generator)"
   ]
  },
  {
   "cell_type": "code",
   "execution_count": 13,
   "metadata": {},
   "outputs": [
    {
     "name": "stdout",
     "output_type": "stream",
     "text": [
      "5/5 [==============================] - 3s 672ms/step\n"
     ]
    }
   ],
   "source": [
    "#just an effort to improve accuracy\n",
    "\n",
    "STEP_SIZE_TEST=validation_generator.n//validation_generator.batch_size\n",
    "validation_generator.reset()\n",
    "preds = model.predict(validation_generator,\n",
    "                      verbose=1)"
   ]
  },
  {
   "cell_type": "code",
   "execution_count": 14,
   "metadata": {},
   "outputs": [],
   "source": [
    "fpr, tpr, _ = roc_curve(validation_generator.classes, preds)"
   ]
  },
  {
   "cell_type": "code",
   "execution_count": 15,
   "metadata": {},
   "outputs": [],
   "source": [
    "roc_auc = auc(fpr, tpr)"
   ]
  },
  {
   "cell_type": "markdown",
   "metadata": {},
   "source": [
    "https://colab.research.google.com/drive/1nseete5huZlWM7Ak0qL-T75Dbk0mdr-Z?usp=sharing#scrollTo=DoWp43WxJDNT"
   ]
  }
 ],
 "metadata": {
  "kernelspec": {
   "display_name": "Python 3",
   "language": "python",
   "name": "python3"
  },
  "language_info": {
   "codemirror_mode": {
    "name": "ipython",
    "version": 3
   },
   "file_extension": ".py",
   "mimetype": "text/x-python",
   "name": "python",
   "nbconvert_exporter": "python",
   "pygments_lexer": "ipython3",
   "version": "3.8.8"
  }
 },
 "nbformat": 4,
 "nbformat_minor": 4
}
