{
 "cells": [
  {
   "cell_type": "code",
   "execution_count": 1,
   "metadata": {},
   "outputs": [],
   "source": [
    "import os\n",
    "from sklearn.model_selection import train_test_split\n",
    "datahigh = os.listdir(\"simple_images/high_traffic\")\n",
    "trainhigh, validhigh = train_test_split(datahigh, test_size=0.2, random_state=1)"
   ]
  },
  {
   "cell_type": "code",
   "execution_count": 2,
   "metadata": {},
   "outputs": [],
   "source": [
    "datalow = os.listdir(\"simple_images/low_traffic\")\n",
    "trainlow, validlow = train_test_split(datalow, test_size=0.2, random_state=1)"
   ]
  },
  {
   "cell_type": "code",
   "execution_count": 3,
   "metadata": {},
   "outputs": [
    {
     "name": "stdout",
     "output_type": "stream",
     "text": [
      "Length of High Traffic training dataset  is  483\n",
      "Length of High Traffic validation dataset  is  121\n"
     ]
    }
   ],
   "source": [
    "print(\"Length of High Traffic training dataset  is \", len(trainhigh))\n",
    "print(\"Length of High Traffic validation dataset  is \", len(validhigh))"
   ]
  },
  {
   "cell_type": "code",
   "execution_count": 4,
   "metadata": {},
   "outputs": [
    {
     "name": "stdout",
     "output_type": "stream",
     "text": [
      "Length of Low Traffic training dataset  is  504\n",
      "Length of Low Traffic validation dataset  is  127\n"
     ]
    }
   ],
   "source": [
    "print(\"Length of Low Traffic training dataset  is \", len(trainlow))\n",
    "print(\"Length of Low Traffic validation dataset  is \", len(validlow))"
   ]
  },
  {
   "cell_type": "code",
   "execution_count": 7,
   "metadata": {},
   "outputs": [
    {
     "data": {
      "image/png": "[encoded data removed]",
      "text/plain": [
       "<Figure size 432x288 with 1 Axes>"
      ]
     },
     "metadata": {
      "needs_background": "light"
     },
     "output_type": "display_data"
    }
   ],
   "source": [
    "import matplotlib.pyplot as plt\n",
    "\n",
    "labels=['High Traffic','Low Traffic']\n",
    "trainingData=[len(trainhigh),len(trainlow)]\n",
    "validationData=[len(validhigh),len(validlow)]\n",
    "\n",
    "fig, ax = plt.subplots()\n",
    "\n",
    "ax.bar(labels, trainingData, width, label='Training Data')\n",
    "ax.bar(labels, validationData, width, bottom=trainingData, label='Validation data')\n",
    "\n",
    "ax.set_ylabel('Number of images')\n",
    "ax.set_title('Training and Validation data distribution')\n",
    "ax.legend()\n",
    "\n",
    "plt.show()"
   ]
  },
  {
   "cell_type": "code",
   "execution_count": 8,
   "metadata": {},
   "outputs": [
    {
     "name": "stdout",
     "output_type": "stream",
     "text": [
      "Found 1044 images belonging to 2 classes.\n",
      "Found 294 images belonging to 2 classes.\n"
     ]
    }
   ],
   "source": [
    "from tensorflow.keras.preprocessing.image import ImageDataGenerator\n",
    "\n",
    "\n",
    "train_datagen = ImageDataGenerator(rescale=1/255)\n",
    "validation_datagen = ImageDataGenerator(rescale=1/255)\n",
    "\n",
    "train_generator = train_datagen.flow_from_directory(\n",
    "        'split_images/train/', \n",
    "        classes = ['high_traffic', 'low_traffic'],\n",
    "        target_size=(200, 200),  \n",
    "        batch_size=120,\n",
    "    \n",
    "        class_mode='binary')\n",
    "\n",
    "\n",
    "validation_generator = validation_datagen.flow_from_directory(\n",
    "        'split_images/valid/', \n",
    "        classes = ['high_traffic', 'low_traffic'],\n",
    "        target_size=(200, 200),  \n",
    "        batch_size=19,\n",
    "        \n",
    "        class_mode='binary',\n",
    "        shuffle=False)"
   ]
  },
  {
   "cell_type": "code",
   "execution_count": 9,
   "metadata": {},
   "outputs": [],
   "source": [
    "import tensorflow as tf\n",
    "import numpy as np\n",
    "from itertools import cycle\n",
    "\n",
    "from sklearn import svm, datasets\n",
    "from sklearn.metrics import roc_curve, auc\n",
    "from sklearn.model_selection import train_test_split\n",
    "from sklearn.preprocessing import label_binarize\n",
    "from sklearn.multiclass import OneVsRestClassifier\n",
    "from scipy import interp\n",
    "from sklearn.metrics import roc_auc_score"
   ]
  },
  {
   "cell_type": "code",
   "execution_count": 10,
   "metadata": {},
   "outputs": [],
   "source": [
    "model = tf.keras.models.Sequential([tf.keras.layers.Flatten(input_shape = (200,200,3)), \n",
    "                                    tf.keras.layers.Dense(128, activation=tf.nn.relu), \n",
    "                                    tf.keras.layers.Dense(1, activation=tf.nn.sigmoid)])"
   ]
  },
  {
   "cell_type": "code",
   "execution_count": 11,
   "metadata": {
    "scrolled": true
   },
   "outputs": [
    {
     "name": "stdout",
     "output_type": "stream",
     "text": [
      "Model: \"sequential\"\n",
      "_________________________________________________________________\n",
      "Layer (type)                 Output Shape              Param #   \n",
      "=================================================================\n",
      "flatten (Flatten)            (None, 120000)            0         \n",
      "_________________________________________________________________\n",
      "dense (Dense)                (None, 128)               15360128  \n",
      "_________________________________________________________________\n",
      "dense_1 (Dense)              (None, 1)                 129       \n",
      "=================================================================\n",
      "Total params: 15,360,257\n",
      "Trainable params: 15,360,257\n",
      "Non-trainable params: 0\n",
      "_________________________________________________________________\n"
     ]
    }
   ],
   "source": [
    "model.summary()"
   ]
  },
  {
   "cell_type": "code",
   "execution_count": 12,
   "metadata": {},
   "outputs": [],
   "source": [
    "model.compile(optimizer = tf.optimizers.Adam(),\n",
    "              loss = 'binary_crossentropy',\n",
    "              metrics=['accuracy'])"
   ]
  },
  {
   "cell_type": "code",
   "execution_count": 20,
   "metadata": {},
   "outputs": [
    {
     "name": "stdout",
     "output_type": "stream",
     "text": [
      "Epoch 1/20\n",
      "5/5 [==============================] - 19s 4s/step - loss: 0.6930 - accuracy: 0.5089 - val_loss: 0.7024 - val_accuracy: 0.0592\n",
      "Epoch 2/20\n",
      "5/5 [==============================] - 19s 4s/step - loss: 0.6925 - accuracy: 0.5337 - val_loss: 0.7027 - val_accuracy: 0.0592\n",
      "Epoch 3/20\n",
      "5/5 [==============================] - 18s 4s/step - loss: 0.6931 - accuracy: 0.5071 - val_loss: 0.7030 - val_accuracy: 0.0592\n",
      "Epoch 4/20\n",
      "5/5 [==============================] - 21s 4s/step - loss: 0.6928 - accuracy: 0.5200 - val_loss: 0.7031 - val_accuracy: 0.0592\n",
      "Epoch 5/20\n",
      "5/5 [==============================] - 21s 4s/step - loss: 0.6923 - accuracy: 0.5383 - val_loss: 0.7034 - val_accuracy: 0.0592\n",
      "Epoch 6/20\n",
      "5/5 [==============================] - 19s 4s/step - loss: 0.6927 - accuracy: 0.5213 - val_loss: 0.7038 - val_accuracy: 0.0592\n",
      "Epoch 7/20\n",
      "5/5 [==============================] - 21s 4s/step - loss: 0.6927 - accuracy: 0.5200 - val_loss: 0.7040 - val_accuracy: 0.0592\n",
      "Epoch 8/20\n",
      "5/5 [==============================] - 21s 4s/step - loss: 0.6924 - accuracy: 0.5317 - val_loss: 0.7043 - val_accuracy: 0.0592\n",
      "Epoch 9/20\n",
      "5/5 [==============================] - 20s 4s/step - loss: 0.6932 - accuracy: 0.5017 - val_loss: 0.7046 - val_accuracy: 0.0592\n",
      "Epoch 10/20\n",
      "5/5 [==============================] - 21s 4s/step - loss: 0.6921 - accuracy: 0.5443 - val_loss: 0.7048 - val_accuracy: 0.0592\n",
      "Epoch 11/20\n",
      "5/5 [==============================] - 21s 4s/step - loss: 0.6927 - accuracy: 0.5200 - val_loss: 0.7051 - val_accuracy: 0.0592\n",
      "Epoch 12/20\n",
      "5/5 [==============================] - 18s 4s/step - loss: 0.6926 - accuracy: 0.5230 - val_loss: 0.7055 - val_accuracy: 0.0592\n",
      "Epoch 13/20\n",
      "5/5 [==============================] - 19s 4s/step - loss: 0.6930 - accuracy: 0.5071 - val_loss: 0.7057 - val_accuracy: 0.0592\n",
      "Epoch 14/20\n",
      "5/5 [==============================] - 19s 4s/step - loss: 0.6931 - accuracy: 0.5053 - val_loss: 0.7058 - val_accuracy: 0.0592\n",
      "Epoch 15/20\n",
      "5/5 [==============================] - 20s 4s/step - loss: 0.6926 - accuracy: 0.5233 - val_loss: 0.7059 - val_accuracy: 0.0592\n",
      "Epoch 16/20\n",
      "5/5 [==============================] - 20s 4s/step - loss: 0.6922 - accuracy: 0.5367 - val_loss: 0.7062 - val_accuracy: 0.0592\n",
      "Epoch 17/20\n",
      "5/5 [==============================] - 23s 5s/step - loss: 0.6925 - accuracy: 0.5250 - val_loss: 0.7066 - val_accuracy: 0.0592\n",
      "Epoch 18/20\n",
      "5/5 [==============================] - 19s 4s/step - loss: 0.6918 - accuracy: 0.5479 - val_loss: 0.7070 - val_accuracy: 0.0592\n",
      "Epoch 19/20\n",
      "5/5 [==============================] - 20s 4s/step - loss: 0.6924 - accuracy: 0.5283 - val_loss: 0.7075 - val_accuracy: 0.0592\n",
      "Epoch 20/20\n",
      "5/5 [==============================] - 20s 4s/step - loss: 0.6920 - accuracy: 0.5390 - val_loss: 0.7079 - val_accuracy: 0.0592\n"
     ]
    }
   ],
   "source": [
    "history = model.fit(train_generator,\n",
    "      steps_per_epoch=5,  \n",
    "      epochs=20,\n",
    "      verbose=1,\n",
    "      validation_data = validation_generator,\n",
    "      validation_steps=8)"
   ]
  },
  {
   "cell_type": "code",
   "execution_count": 19,
   "metadata": {},
   "outputs": [
    {
     "name": "stdout",
     "output_type": "stream",
     "text": [
      "16/16 [==============================] - 9s 561ms/step - loss: 0.6929 - accuracy: 0.5136\n"
     ]
    },
    {
     "data": {
      "text/plain": [
       "[0.6929201483726501, 0.5136054158210754]"
      ]
     },
     "execution_count": 19,
     "metadata": {},
     "output_type": "execute_result"
    }
   ],
   "source": [
    "model.evaluate(validation_generator)"
   ]
  },
  {
   "cell_type": "code",
   "execution_count": null,
   "metadata": {},
   "outputs": [],
   "source": []
  },
  {
   "cell_type": "code",
   "execution_count": 17,
   "metadata": {},
   "outputs": [
    {
     "ename": "NameError",
     "evalue": "name 'batch_size' is not defined",
     "output_type": "error",
     "traceback": [
      "\u001b[1;31m---------------------------------------------------------------------------\u001b[0m",
      "\u001b[1;31mNameError\u001b[0m                                 Traceback (most recent call last)",
      "\u001b[1;32m<ipython-input-17-6c43fa1057c2>\u001b[0m in \u001b[0;36m<module>\u001b[1;34m\u001b[0m\n\u001b[1;32m----> 1\u001b[1;33m \u001b[0mbatch_size\u001b[0m\u001b[1;33m\u001b[0m\u001b[1;33m\u001b[0m\u001b[0m\n\u001b[0m",
      "\u001b[1;31mNameError\u001b[0m: name 'batch_size' is not defined"
     ]
    }
   ],
   "source": [
    "batch_size"
   ]
  },
  {
   "cell_type": "markdown",
   "metadata": {},
   "source": [
    "https://colab.research.google.com/drive/1nseete5huZlWM7Ak0qL-T75Dbk0mdr-Z?usp=sharing#scrollTo=DoWp43WxJDNT"
   ]
  }
 ],
 "metadata": {
  "kernelspec": {
   "display_name": "Python 3",
   "language": "python",
   "name": "python3"
  },
  "language_info": {
   "codemirror_mode": {
    "name": "ipython",
    "version": 3
   },
   "file_extension": ".py",
   "mimetype": "text/x-python",
   "name": "python",
   "nbconvert_exporter": "python",
   "pygments_lexer": "ipython3",
   "version": "3.8.8"
  }
 },
 "nbformat": 4,
 "nbformat_minor": 4
}
