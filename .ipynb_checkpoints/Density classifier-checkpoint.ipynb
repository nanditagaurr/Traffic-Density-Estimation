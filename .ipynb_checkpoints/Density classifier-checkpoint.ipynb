{
 "cells": [
  {
   "cell_type": "code",
   "execution_count": 23,
   "metadata": {},
   "outputs": [],
   "source": [
    "import os\n",
    "from sklearn.model_selection import train_test_split\n",
    "datahigh = os.listdir(\"simple_images/high_traffic\")\n",
    "trainhigh, validhigh = train_test_split(datahigh, test_size=0.2, random_state=1)"
   ]
  },
  {
   "cell_type": "code",
   "execution_count": 24,
   "metadata": {},
   "outputs": [],
   "source": [
    "datalow = os.listdir(\"simple_images/low_traffic\")\n",
    "trainlow, validlow = train_test_split(datalow, test_size=0.2, random_state=1)"
   ]
  },
  {
   "cell_type": "code",
   "execution_count": 25,
   "metadata": {},
   "outputs": [
    {
     "name": "stdout",
     "output_type": "stream",
     "text": [
      "Length of High Traffic training dataset  is  374\n",
      "Length of High Traffic validation dataset  is  94\n"
     ]
    }
   ],
   "source": [
    "print(\"Length of High Traffic training dataset  is \", len(trainhigh))\n",
    "print(\"Length of High Traffic validation dataset  is \", len(validhigh))"
   ]
  },
  {
   "cell_type": "code",
   "execution_count": 26,
   "metadata": {},
   "outputs": [
    {
     "name": "stdout",
     "output_type": "stream",
     "text": [
      "Length of Low Traffic training dataset  is  381\n",
      "Length of Low Traffic validation dataset  is  96\n"
     ]
    }
   ],
   "source": [
    "print(\"Length of Low Traffic training dataset  is \", len(trainlow))\n",
    "print(\"Length of Low Traffic validation dataset  is \", len(validlow))"
   ]
  },
  {
   "cell_type": "code",
   "execution_count": 27,
   "metadata": {},
   "outputs": [
    {
     "name": "stdout",
     "output_type": "stream",
     "text": [
      "Found 754 images belonging to 2 classes.\n",
      "Found 249 images belonging to 2 classes.\n"
     ]
    }
   ],
   "source": [
    "from tensorflow.keras.preprocessing.image import ImageDataGenerator\n",
    "\n",
    "\n",
    "train_datagen = ImageDataGenerator(rescale=1/255)\n",
    "validation_datagen = ImageDataGenerator(rescale=1/255)\n",
    "\n",
    "train_generator = train_datagen.flow_from_directory(\n",
    "        'split_images/train/', \n",
    "        classes = ['high_traffic', 'low_traffic'],\n",
    "        target_size=(200, 200),  \n",
    "        batch_size=120,\n",
    "    \n",
    "        class_mode='binary')\n",
    "\n",
    "\n",
    "validation_generator = validation_datagen.flow_from_directory(\n",
    "        'split_images/valid/', \n",
    "        classes = ['high_traffic', 'low_traffic'],\n",
    "        target_size=(200, 200),  \n",
    "        batch_size=19,\n",
    "        \n",
    "        class_mode='binary',\n",
    "        shuffle=False)"
   ]
  },
  {
   "cell_type": "code",
   "execution_count": 11,
   "metadata": {},
   "outputs": [],
   "source": [
    "import tensorflow as tf\n",
    "import numpy as np\n",
    "from itertools import cycle\n",
    "\n",
    "from sklearn import svm, datasets\n",
    "from sklearn.metrics import roc_curve, auc\n",
    "from sklearn.model_selection import train_test_split\n",
    "from sklearn.preprocessing import label_binarize\n",
    "from sklearn.multiclass import OneVsRestClassifier\n",
    "from scipy import interp\n",
    "from sklearn.metrics import roc_auc_score"
   ]
  },
  {
   "cell_type": "code",
   "execution_count": 12,
   "metadata": {},
   "outputs": [],
   "source": [
    "model = tf.keras.models.Sequential([tf.keras.layers.Flatten(input_shape = (200,200,3)), \n",
    "                                    tf.keras.layers.Dense(128, activation=tf.nn.relu), \n",
    "                                    tf.keras.layers.Dense(1, activation=tf.nn.sigmoid)])"
   ]
  },
  {
   "cell_type": "code",
   "execution_count": 13,
   "metadata": {
    "scrolled": true
   },
   "outputs": [
    {
     "name": "stdout",
     "output_type": "stream",
     "text": [
      "Model: \"sequential\"\n",
      "_________________________________________________________________\n",
      "Layer (type)                 Output Shape              Param #   \n",
      "=================================================================\n",
      "flatten (Flatten)            (None, 120000)            0         \n",
      "_________________________________________________________________\n",
      "dense (Dense)                (None, 128)               15360128  \n",
      "_________________________________________________________________\n",
      "dense_1 (Dense)              (None, 1)                 129       \n",
      "=================================================================\n",
      "Total params: 15,360,257\n",
      "Trainable params: 15,360,257\n",
      "Non-trainable params: 0\n",
      "_________________________________________________________________\n"
     ]
    }
   ],
   "source": [
    "model.summary()"
   ]
  },
  {
   "cell_type": "code",
   "execution_count": 14,
   "metadata": {},
   "outputs": [],
   "source": [
    "model.compile(optimizer = tf.optimizers.Adam(),\n",
    "              loss = 'binary_crossentropy',\n",
    "              metrics=['accuracy'])"
   ]
  },
  {
   "cell_type": "code",
   "execution_count": 21,
   "metadata": {},
   "outputs": [
    {
     "name": "stdout",
     "output_type": "stream",
     "text": [
      "Epoch 1/15\n",
      "5/5 [==============================] - 18s 4s/step - loss: 0.6509 - accuracy: 0.6187 - val_loss: 0.4988 - val_accuracy: 0.7895\n",
      "Epoch 2/15\n",
      "5/5 [==============================] - 20s 4s/step - loss: 0.5996 - accuracy: 0.6848 - val_loss: 0.5044 - val_accuracy: 0.8092\n",
      "Epoch 3/15\n",
      "5/5 [==============================] - 19s 4s/step - loss: 0.5519 - accuracy: 0.7451 - val_loss: 0.5418 - val_accuracy: 0.7961\n",
      "Epoch 4/15\n",
      "5/5 [==============================] - 20s 4s/step - loss: 0.5238 - accuracy: 0.7607 - val_loss: 0.8598 - val_accuracy: 0.4079\n",
      "Epoch 5/15\n",
      "5/5 [==============================] - 21s 5s/step - loss: 0.5628 - accuracy: 0.6833 - val_loss: 1.0343 - val_accuracy: 0.2829\n",
      "Epoch 6/15\n",
      "5/5 [==============================] - 22s 4s/step - loss: 0.5601 - accuracy: 0.6917 - val_loss: 0.8000 - val_accuracy: 0.4605\n",
      "Epoch 7/15\n",
      "5/5 [==============================] - 18s 4s/step - loss: 0.5448 - accuracy: 0.6965 - val_loss: 0.6734 - val_accuracy: 0.5789\n",
      "Epoch 8/15\n",
      "5/5 [==============================] - 19s 4s/step - loss: 0.5429 - accuracy: 0.7218 - val_loss: 0.6731 - val_accuracy: 0.5921\n",
      "Epoch 9/15\n",
      "5/5 [==============================] - 19s 4s/step - loss: 0.4853 - accuracy: 0.7957 - val_loss: 0.6224 - val_accuracy: 0.6382\n",
      "Epoch 10/15\n",
      "5/5 [==============================] - 20s 4s/step - loss: 0.4763 - accuracy: 0.8210 - val_loss: 0.7427 - val_accuracy: 0.5263\n",
      "Epoch 11/15\n",
      "5/5 [==============================] - 20s 5s/step - loss: 0.4618 - accuracy: 0.8249 - val_loss: 0.7092 - val_accuracy: 0.5658\n",
      "Epoch 12/15\n",
      "5/5 [==============================] - 21s 5s/step - loss: 0.4523 - accuracy: 0.8333 - val_loss: 0.5691 - val_accuracy: 0.7237\n",
      "Epoch 13/15\n",
      "5/5 [==============================] - 20s 5s/step - loss: 0.4220 - accuracy: 0.8755 - val_loss: 0.5302 - val_accuracy: 0.7566\n",
      "Epoch 14/15\n",
      "5/5 [==============================] - 19s 4s/step - loss: 0.4248 - accuracy: 0.8677 - val_loss: 0.4833 - val_accuracy: 0.8026\n",
      "Epoch 15/15\n",
      "5/5 [==============================] - 19s 4s/step - loss: 0.4048 - accuracy: 0.8794 - val_loss: 0.5276 - val_accuracy: 0.7697\n"
     ]
    }
   ],
   "source": [
    "history = model.fit(train_generator,\n",
    "      steps_per_epoch=5,  \n",
    "      epochs=15,\n",
    "      verbose=1,\n",
    "      validation_data = validation_generator,\n",
    "      validation_steps=8)"
   ]
  },
  {
   "cell_type": "code",
   "execution_count": 22,
   "metadata": {},
   "outputs": [
    {
     "name": "stdout",
     "output_type": "stream",
     "text": [
      "14/14 [==============================] - 8s 580ms/step - loss: 0.4876 - accuracy: 0.7952\n"
     ]
    },
    {
     "data": {
      "text/plain": [
       "[0.4875795841217041, 0.7951807379722595]"
      ]
     },
     "execution_count": 22,
     "metadata": {},
     "output_type": "execute_result"
    }
   ],
   "source": [
    "model.evaluate(validation_generator)"
   ]
  },
  {
   "cell_type": "markdown",
   "metadata": {},
   "source": [
    "https://colab.research.google.com/drive/1nseete5huZlWM7Ak0qL-T75Dbk0mdr-Z?usp=sharing#scrollTo=DoWp43WxJDNT"
   ]
  }
 ],
 "metadata": {
  "kernelspec": {
   "display_name": "Python 3",
   "language": "python",
   "name": "python3"
  },
  "language_info": {
   "codemirror_mode": {
    "name": "ipython",
    "version": 3
   },
   "file_extension": ".py",
   "mimetype": "text/x-python",
   "name": "python",
   "nbconvert_exporter": "python",
   "pygments_lexer": "ipython3",
   "version": "3.8.8"
  }
 },
 "nbformat": 4,
 "nbformat_minor": 4
}
